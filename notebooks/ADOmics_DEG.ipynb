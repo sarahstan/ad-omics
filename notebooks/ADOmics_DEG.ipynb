{
 "cells": [
  {
   "cell_type": "markdown",
   "id": "04ae31df",
   "metadata": {},
   "source": [
    "## ADomics: DEGs\n",
    "\n",
    "# Goal: Plot DEGs for AD/Control\n",
    "\n",
    "From Sun et al., 2023: \n",
    "- Overall N’s: 22,514 transcriptomes, 6 brain regions, 220 AD and 208 controls, 11 cell types. DEG: 2,676 cell-type-specific genes, with 2142 unique to one cell type, highest is capillary endothelial cells.\n",
    "- brDEGs (brain-region differentially expressed genes): 1,745\n",
    "\n"
   ]
  },
  {
   "cell_type": "code",
   "execution_count": 1,
   "id": "345cc158",
   "metadata": {},
   "outputs": [],
   "source": [
    "# This code needs to exist in every notebook that imports functions from another file so that it will automatically check for changes in that file and update cached versions. \n",
    "%load_ext autoreload\n",
    "%autoreload 2"
   ]
  }
 ],
 "metadata": {
  "kernelspec": {
   "display_name": "datasci",
   "language": "python",
   "name": "python3"
  },
  "language_info": {
   "codemirror_mode": {
    "name": "ipython",
    "version": 3
   },
   "file_extension": ".py",
   "mimetype": "text/x-python",
   "name": "python",
   "nbconvert_exporter": "python",
   "pygments_lexer": "ipython3",
   "version": "3.13.2"
  }
 },
 "nbformat": 4,
 "nbformat_minor": 5
}
