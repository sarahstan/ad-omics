{
 "cells": [
  {
   "cell_type": "markdown",
   "id": "04ae31df",
   "metadata": {},
   "source": [
    "## ADomics: DEGs\n",
    "\n",
    "Goal: Plot DEGs for AD/Control\n",
    "\n",
    "From Sun et al., 2023: \n",
    "- Overall N’s: 22,514 transcriptomes, 6 brain regions, 220 AD and 208 controls, 11 cell types. DEG: 2,676 cell-type-specific genes, with 2142 unique to one cell type, highest is capillary endothelial cells.\n",
    "- brDEGs (brain-region differentially expressed genes): 1,745\n",
    "\n"
   ]
  },
  {
   "cell_type": "code",
   "execution_count": 2,
   "id": "345cc158",
   "metadata": {},
   "outputs": [],
   "source": [
    "# This code needs to exist in every notebook that imports functions from another file so that it will automatically check for changes in that file and update cached versions. \n",
    "%load_ext autoreload\n",
    "%autoreload 2"
   ]
  },
  {
   "cell_type": "code",
   "execution_count": 11,
   "id": "9ef3add5",
   "metadata": {},
   "outputs": [
    {
     "name": "stderr",
     "output_type": "stream",
     "text": [
      "2025-05-19 16:26:40,742 - harmonypy - INFO - Computing initial centroids with sklearn.KMeans...\n",
      "2025-05-19 16:26:44,442 - harmonypy - INFO - sklearn.KMeans initialization complete.\n",
      "2025-05-19 16:26:44,560 - harmonypy - INFO - Iteration 1 of 20\n",
      "2025-05-19 16:26:53,454 - harmonypy - INFO - Iteration 2 of 20\n",
      "2025-05-19 16:27:02,285 - harmonypy - INFO - Iteration 3 of 20\n",
      "2025-05-19 16:27:11,155 - harmonypy - INFO - Converged after 3 iterations\n",
      "c:\\Users\\Sarah\\.conda\\envs\\datasci\\Lib\\site-packages\\umap\\umap_.py:1952: UserWarning: n_jobs value 1 overridden to 1 by setting random_state. Use no seed for parallelism.\n",
      "  warn(\n"
     ]
    },
    {
     "name": "stdout",
     "output_type": "stream",
     "text": [
      "Run pipeline complete.\n"
     ]
    }
   ],
   "source": [
    "#Import data and process to generate PCA components\n",
    "\n",
    "from data import scDATA\n",
    "from tools import scPLOT\n",
    "\n",
    "# Specify the data path and figs directory, if saving\n",
    "matrix_dir = r'C:\\Users\\Sarah\\Dropbox\\Sharejerah\\ROSMAP\\data'  \n",
    "figure_directory= r'C:\\Users\\Sarah\\Dropbox\\Bearah Bace\\PythonProjects\\ad-omics\\OtherExports\\FIGURES'\n",
    "\n",
    "ad_data = scDATA(matrix_dir,verbose=False) # for print output\n",
    "ad_plot = scPLOT(ad_data) #no save path for figures\n",
    "ad_plot.run_pipeline()"
   ]
  },
  {
   "cell_type": "code",
   "execution_count": 13,
   "id": "5c3f17f2",
   "metadata": {},
   "outputs": [
    {
     "data": {
      "text/plain": [
       "(22514, 30)"
      ]
     },
     "execution_count": 13,
     "metadata": {},
     "output_type": "execute_result"
    }
   ],
   "source": [
    "# Get PCA matrix\n",
    "pca_matrix = ad_plot.sc_data.adata_hvg.obsm[\"X_pca_harmony\"]\n",
    "\n",
    "pca_matrix.shape"
   ]
  }
 ],
 "metadata": {
  "kernelspec": {
   "display_name": "datasci",
   "language": "python",
   "name": "python3"
  },
  "language_info": {
   "codemirror_mode": {
    "name": "ipython",
    "version": 3
   },
   "file_extension": ".py",
   "mimetype": "text/x-python",
   "name": "python",
   "nbconvert_exporter": "python",
   "pygments_lexer": "ipython3",
   "version": "3.13.2"
  }
 },
 "nbformat": 4,
 "nbformat_minor": 5
}
